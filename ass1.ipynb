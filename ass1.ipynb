{
 "cells": [
  {
   "cell_type": "code",
   "execution_count": null,
   "id": "e1d93b5b",
   "metadata": {},
   "outputs": [],
   "source": [
    "1) In the below elements which of them are values or an expression? eg:- values can be\n",
    "integer or string and expressions will be mathematical operators.\n",
    "\n",
    "Ans)\n",
    " * = mathematical operator\n",
    "\n",
    "'hello' = value\n",
    "\n",
    "-87.8 = value\n",
    "\n",
    "- = mathematical operato\n",
    "\n",
    "/ = mathematical operato\n",
    "\n",
    "+ = mathematical operato\n",
    "\n",
    "6 = value"
   ]
  },
  {
   "cell_type": "code",
   "execution_count": null,
   "id": "85e247fb",
   "metadata": {},
   "outputs": [],
   "source": [
    "2. What is the difference between string and variable\n",
    "Ans)\n",
    "string is a value:\n",
    "variable stores a value.    "
   ]
  },
  {
   "cell_type": "code",
   "execution_count": null,
   "id": "70af4416",
   "metadata": {},
   "outputs": [],
   "source": [
    "3. Describe three different data types.\n",
    "Ans)\n",
    "integer\n",
    "float\n",
    "string."
   ]
  },
  {
   "cell_type": "code",
   "execution_count": null,
   "id": "6200dace",
   "metadata": {},
   "outputs": [],
   "source": [
    "4. What is an expression made up of? What do all expressions do?\n",
    "Ans)\n",
    "expression are mathematical operators which perform matchematical operations between the values."
   ]
  },
  {
   "cell_type": "code",
   "execution_count": null,
   "id": "2cead4e1",
   "metadata": {},
   "outputs": [],
   "source": [
    "5. This assignment statements, like spam = 10. What is the difference between an\n",
    "expression and a statement?\n",
    "Ans)\n",
    "statement represent an action or command.\n",
    "expression assigns a value to the variable."
   ]
  },
  {
   "cell_type": "code",
   "execution_count": null,
   "id": "fc116cd5",
   "metadata": {},
   "outputs": [],
   "source": [
    "6. After running the following code, what does the variable bacon contain?\n",
    "bacon = 22\n",
    "bacon + 1\n",
    "Ans) 23\n"
   ]
  },
  {
   "cell_type": "code",
   "execution_count": null,
   "id": "0fa46b4b",
   "metadata": {},
   "outputs": [],
   "source": [
    "7. What should the values of the following two terms be?\n",
    "Ans) \n",
    "'spam' + 'spamspam' = 'spamspamspam'\n",
    "'spam'*3            = 'spamspamspam'\n"
   ]
  },
  {
   "cell_type": "code",
   "execution_count": null,
   "id": "c07edf52",
   "metadata": {},
   "outputs": [],
   "source": [
    "8. Why is eggs a valid variable name while 100 is invalid?\n",
    "Ans) \n",
    "as eggs can store a value it is a valid variable.\n",
    "as 100 it just a value, it is not a valid variable.\n"
   ]
  },
  {
   "cell_type": "code",
   "execution_count": null,
   "id": "e0d75773",
   "metadata": {},
   "outputs": [],
   "source": [
    "9. What three functions can be used to get the integer, floating-point number, or string\n",
    "version of a value?\n",
    "Ans)\n",
    "-int()\n",
    "-float()\n",
    "-str()"
   ]
  },
  {
   "cell_type": "code",
   "execution_count": null,
   "id": "898a1de3",
   "metadata": {},
   "outputs": [],
   "source": [
    "10. Why does this expression cause an error? How can you fix it?\n",
    "'i have eaten' + 99 + 'burritos'\n",
    "Ans)\n",
    "python wont add a string and an interger.\n",
    "'i have eaten' + '99' + 'burritos'\n",
    "now, it will be added\n",
    "'i have eaten99burritos'"
   ]
  }
 ],
 "metadata": {
  "kernelspec": {
   "display_name": "Python 3",
   "language": "python",
   "name": "python3"
  },
  "language_info": {
   "codemirror_mode": {
    "name": "ipython",
    "version": 3
   },
   "file_extension": ".py",
   "mimetype": "text/x-python",
   "name": "python",
   "nbconvert_exporter": "python",
   "pygments_lexer": "ipython3",
   "version": "3.6.13"
  }
 },
 "nbformat": 4,
 "nbformat_minor": 5
}
